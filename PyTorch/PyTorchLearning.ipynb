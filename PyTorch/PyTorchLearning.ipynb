{
 "cells": [
  {
   "cell_type": "code",
   "execution_count": 1,
   "metadata": {},
   "outputs": [],
   "source": [
    "import torch"
   ]
  },
  {
   "cell_type": "code",
   "execution_count": 2,
   "metadata": {},
   "outputs": [
    {
     "name": "stdout",
     "output_type": "stream",
     "text": [
      "A is tensor([[1., 2.],\n",
      "        [3., 4.],\n",
      "        [5., 6.]])\n",
      "B is tensor([[1, 2],\n",
      "        [3, 4],\n",
      "        [5, 6]])\n",
      "C is tensor([[0., 0.],\n",
      "        [0., 0.],\n",
      "        [0., 0.]])\n",
      "D is tensor([[-2.0380,  1.5197],\n",
      "        [ 0.2207, -0.0692],\n",
      "        [-0.1221,  0.5043]])\n"
     ]
    }
   ],
   "source": [
    "#Tensor\n",
    "a = torch.Tensor([[1,2],[3,4],[5,6]])\n",
    "print(\"A is {}\".format(a))\n",
    "b = torch.LongTensor([[1,2],[3,4],[5,6]])\n",
    "print(\"B is {}\".format(b))\n",
    "c = torch.zeros((3,2))\n",
    "print(\"C is {}\".format(c))\n",
    "d = torch.randn((3,2))\n",
    "print(\"D is {}\".format(d))\n",
    "#Tensor和ndarray可以互相转换"
   ]
  },
  {
   "cell_type": "code",
   "execution_count": 3,
   "metadata": {},
   "outputs": [
    {
     "name": "stdout",
     "output_type": "stream",
     "text": [
      "tensor([8.]) tensor([4.]) tensor([4.])\n"
     ]
    }
   ],
   "source": [
    "#Variable\n",
    "x = torch.autograd.Variable(torch.Tensor([1]), requires_grad=True)\n",
    "w1 = torch.autograd.Variable(torch.Tensor([2]), requires_grad=True)\n",
    "b1 = torch.autograd.Variable(torch.Tensor([3]), requires_grad=True)\n",
    "w2 = torch.autograd.Variable(torch.Tensor([4]), requires_grad=True)\n",
    "b2 = torch.autograd.Variable(torch.Tensor([5]), requires_grad=True)\n",
    "\n",
    "mid = w1 * x + b1     #mid = 2x + 3\n",
    "y = w2 * mid + b2     #y = 4mid + 5\n",
    "\n",
    "y.backward()\n",
    "\n",
    "print(x.grad,w1.grad,b1.grad)"
   ]
  },
  {
   "cell_type": "code",
   "execution_count": 4,
   "metadata": {},
   "outputs": [
    {
     "name": "stdout",
     "output_type": "stream",
     "text": [
      "tensor([-1.7746, -3.2499, -1.7162], grad_fn=<MulBackward0>)\n",
      "tensor([2.0000, 0.2000, 0.0200])\n"
     ]
    }
   ],
   "source": [
    "x = torch.randn(3)\n",
    "x = torch.autograd.Variable(x, requires_grad=True)\n",
    "\n",
    "y = 2 * x\n",
    "print(y)\n",
    "\n",
    "y.backward(torch.FloatTensor([1,0.1,0.01]))\n",
    "print(x.grad)"
   ]
  },
  {
   "cell_type": "code",
   "execution_count": null,
   "metadata": {},
   "outputs": [],
   "source": []
  }
 ],
 "metadata": {
  "kernelspec": {
   "display_name": "Python 3",
   "language": "python",
   "name": "python3"
  },
  "language_info": {
   "codemirror_mode": {
    "name": "ipython",
    "version": 3
   },
   "file_extension": ".py",
   "mimetype": "text/x-python",
   "name": "python",
   "nbconvert_exporter": "python",
   "pygments_lexer": "ipython3",
   "version": "3.6.6"
  }
 },
 "nbformat": 4,
 "nbformat_minor": 2
}
