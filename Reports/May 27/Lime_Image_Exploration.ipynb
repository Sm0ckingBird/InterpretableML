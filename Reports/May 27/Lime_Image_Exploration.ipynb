{
 "cells": [
  {
   "cell_type": "markdown",
   "metadata": {},
   "source": [
    "## 1.训练Image分类模型——CNN"
   ]
  },
  {
   "cell_type": "code",
   "execution_count": 1,
   "metadata": {},
   "outputs": [
    {
     "data": {
      "text/plain": [
       "<torch._C.Generator at 0x10c2f4270>"
      ]
     },
     "execution_count": 1,
     "metadata": {},
     "output_type": "execute_result"
    }
   ],
   "source": [
    "import torch\n",
    "import torch.nn as nn\n",
    "import torch.utils.data as Data\n",
    "import torchvision\n",
    "import matplotlib.pyplot as plt\n",
    "import numpy as np\n",
    "import torch.nn.functional as F\n",
    "from skimage.color import gray2rgb, rgb2gray, label2rgb # since the code wants color images\n",
    "\n",
    "torch.manual_seed(1)    # reproducible"
   ]
  },
  {
   "cell_type": "code",
   "execution_count": 2,
   "metadata": {},
   "outputs": [],
   "source": [
    "# Hyper Parameters\n",
    "EPOCH = 1\n",
    "BATCH_SIZE = 50\n",
    "LR = 0.001          # 学习率\n",
    "DOWNLOAD_MNIST = False"
   ]
  },
  {
   "cell_type": "code",
   "execution_count": 3,
   "metadata": {},
   "outputs": [],
   "source": [
    "train_data = torchvision.datasets.MNIST(\n",
    "    root='./mnist/',\n",
    "    train=True,\n",
    "    transform=torchvision.transforms.ToTensor(),\n",
    "    download=DOWNLOAD_MNIST,\n",
    ")\n",
    "test_data = torchvision.datasets.MNIST(root='./mnist/', train=False)"
   ]
  },
  {
   "cell_type": "code",
   "execution_count": 4,
   "metadata": {},
   "outputs": [],
   "source": [
    "train = list()\n",
    "test = list()"
   ]
  },
  {
   "cell_type": "code",
   "execution_count": 5,
   "metadata": {},
   "outputs": [],
   "source": [
    "for i in range(0,10):\n",
    "    train.append((torch.Tensor(gray2rgb(np.array(train_data[i][0])).reshape(28,28,3)),train_data[i][1]))\n",
    "    #Y_train.append(train_data[i][1])"
   ]
  },
  {
   "cell_type": "code",
   "execution_count": 6,
   "metadata": {},
   "outputs": [],
   "source": [
    "for i in range(0,10):\n",
    "    test.append((torch.Tensor(gray2rgb(np.array(test_data[i][0])).reshape(28,28,3)),test_data[i][1]))"
   ]
  },
  {
   "cell_type": "code",
   "execution_count": 7,
   "metadata": {},
   "outputs": [
    {
     "data": {
      "text/plain": [
       "<matplotlib.image.AxesImage at 0x82ad95320>"
      ]
     },
     "execution_count": 7,
     "metadata": {},
     "output_type": "execute_result"
    },
    {
     "data": {
      "image/png": "[encoded data removed]",
      "text/plain": [
       "<matplotlib.figure.Figure at 0x8278e60b8>"
      ]
     },
     "metadata": {},
     "output_type": "display_data"
    }
   ],
   "source": [
    "plt.imshow(np.array(test[0][0]))"
   ]
  },
  {
   "cell_type": "code",
   "execution_count": 8,
   "metadata": {
    "scrolled": true
   },
   "outputs": [],
   "source": [
    "# 批训练 50samples, 1 channel, 28x28 (50, 3, 28, 28)\n",
    "train_loader = Data.DataLoader(dataset=train, batch_size=BATCH_SIZE, shuffle=True)\n",
    "#test_x = torch.unsqueeze(test_data.data, dim=1).type(torch.FloatTensor)[:2000]/255.\n",
    "#test_y = test_data.targets[:2000]"
   ]
  },
  {
   "cell_type": "markdown",
   "metadata": {},
   "source": [
    "### 定义神经网络"
   ]
  },
  {
   "cell_type": "code",
   "execution_count": 9,
   "metadata": {},
   "outputs": [],
   "source": [
    "class CNN(nn.Module):\n",
    "    def __init__(self):\n",
    "        super(CNN, self).__init__()\n",
    "        self.conv1 = nn.Sequential(  # input shape (3, 28, 28)\n",
    "            nn.Conv2d(\n",
    "                in_channels=3,      # input height\n",
    "                out_channels=16,    # n_filters\n",
    "                kernel_size=5,      # filter size\n",
    "                stride=1,           # filter movement/step\n",
    "                padding=2,      # 如果想要 con2d 出来的图片长宽没有变化, padding=(kernel_size-1)/2 当 stride=1\n",
    "            ),      # output shape (16, 28, 28)\n",
    "            nn.ReLU(),    # activation\n",
    "            nn.MaxPool2d(kernel_size=2),    # 在 2x2 空间里向下采样, output shape (16, 14, 14)\n",
    "        )\n",
    "        self.conv2 = nn.Sequential(  # input shape (16, 14, 14)\n",
    "            nn.Conv2d(16, 32, 5, 1, 2),  # output shape (32, 14, 14)\n",
    "            nn.ReLU(),  # activation\n",
    "            nn.MaxPool2d(2),  # output shape (32, 7, 7)\n",
    "        )\n",
    "        self.out = nn.Linear(32 * 7 * 7, 10)   # fully connected layer, output 10 classes\n",
    "\n",
    "    def forward(self, x):\n",
    "        x = torch.Tensor(x)\n",
    "        x = x.reshape(-1,3,28,28)\n",
    "        x = self.conv1(x)\n",
    "        x = self.conv2(x)\n",
    "        x = x.view(x.size(0), -1)   # 展平多维的卷积图成 (batch_size, 32 * 7 * 7)\n",
    "        output = self.out(x)\n",
    "        return output"
   ]
  },
  {
   "cell_type": "code",
   "execution_count": 10,
   "metadata": {},
   "outputs": [
    {
     "name": "stdout",
     "output_type": "stream",
     "text": [
      "CNN(\n",
      "  (conv1): Sequential(\n",
      "    (0): Conv2d(3, 16, kernel_size=(5, 5), stride=(1, 1), padding=(2, 2))\n",
      "    (1): ReLU()\n",
      "    (2): MaxPool2d(kernel_size=2, stride=2, padding=0, dilation=1, ceil_mode=False)\n",
      "  )\n",
      "  (conv2): Sequential(\n",
      "    (0): Conv2d(16, 32, kernel_size=(5, 5), stride=(1, 1), padding=(2, 2))\n",
      "    (1): ReLU()\n",
      "    (2): MaxPool2d(kernel_size=2, stride=2, padding=0, dilation=1, ceil_mode=False)\n",
      "  )\n",
      "  (out): Linear(in_features=1568, out_features=10, bias=True)\n",
      ")\n"
     ]
    }
   ],
   "source": [
    "cnn = CNN()\n",
    "print(cnn)"
   ]
  },
  {
   "cell_type": "markdown",
   "metadata": {},
   "source": [
    "### 模型训练"
   ]
  },
  {
   "cell_type": "code",
   "execution_count": 11,
   "metadata": {},
   "outputs": [],
   "source": [
    "optimizer = torch.optim.Adam(cnn.parameters(), lr=LR)   # optimize all cnn parameters\n",
    "loss_func = nn.CrossEntropyLoss()   # the target label is not one-hotted"
   ]
  },
  {
   "cell_type": "code",
   "execution_count": 12,
   "metadata": {},
   "outputs": [
    {
     "name": "stdout",
     "output_type": "stream",
     "text": [
      "Step:0 Loss:2.302663803100586\n",
      "Step:100 Loss:0.18354345858097076\n",
      "Step:200 Loss:0.28644779324531555\n",
      "Step:300 Loss:0.39474427700042725\n",
      "Step:400 Loss:0.31586167216300964\n",
      "Step:500 Loss:0.48773735761642456\n",
      "Step:600 Loss:0.28015759587287903\n",
      "Step:700 Loss:0.12532995641231537\n",
      "Step:800 Loss:0.23947758972644806\n",
      "Step:900 Loss:0.17135539650917053\n",
      "Step:1000 Loss:0.10992328822612762\n",
      "Step:1100 Loss:0.3246319591999054\n"
     ]
    }
   ],
   "source": [
    "# training and testing\n",
    "for epoch in range(EPOCH):\n",
    "    for step, (b_x, b_y) in enumerate(train_loader):   # 分配 batch data, normalize x when iterate train_loader\n",
    "        output = cnn(b_x)               # cnn output\n",
    "        loss = loss_func(output, b_y)   # cross entropy loss\n",
    "        optimizer.zero_grad()           # clear gradients for this training step\n",
    "        loss.backward()                 # backpropagation, compute gradients\n",
    "        optimizer.step()                # apply gradients\n",
    "        if step % 100 == 0:\n",
    "            print(\"Step:{} Loss:{}\".format(step,loss))"
   ]
  },
  {
   "cell_type": "markdown",
   "metadata": {},
   "source": [
    "### 保存模型"
   ]
  },
  {
   "cell_type": "code",
   "execution_count": 13,
   "metadata": {},
   "outputs": [],
   "source": [
    "torch.save(cnn.state_dict(), 'Mnist_CNN.pkl')"
   ]
  },
  {
   "cell_type": "markdown",
   "metadata": {},
   "source": [
    "## 使用Lime解释模型"
   ]
  },
  {
   "cell_type": "code",
   "execution_count": 11,
   "metadata": {},
   "outputs": [],
   "source": [
    "from lime import lime_image\n",
    "from lime.wrappers.scikit_image import SegmentationAlgorithm\n",
    "from skimage.segmentation import mark_boundaries"
   ]
  },
  {
   "cell_type": "code",
   "execution_count": 12,
   "metadata": {},
   "outputs": [
    {
     "name": "stdout",
     "output_type": "stream",
     "text": [
      "tensor([[0., 0., 0., 0., 0., 0., 0., 1., 0., 0.]], grad_fn=<SoftmaxBackward>)\n"
     ]
    }
   ],
   "source": [
    "cnn_copy = CNN()\n",
    "cnn_copy.load_state_dict(torch.load('Mnist_CNN.pkl'))\n",
    "logits = cnn_copy(torch.unsqueeze(test[0][0],dim=0))\n",
    "print(F.softmax(logits, dim=1))"
   ]
  },
  {
   "cell_type": "code",
   "execution_count": 28,
   "metadata": {},
   "outputs": [],
   "source": [
    "def getResult(image):\n",
    "    logits = cnn_copy(image)\n",
    "    probs = F.softmax(logits, dim=1)\n",
    "    return probs.detach().numpy()"
   ]
  },
  {
   "cell_type": "code",
   "execution_count": 43,
   "metadata": {},
   "outputs": [],
   "source": [
    "explainer = lime_image.LimeImageExplainer()\n",
    "segmenter = SegmentationAlgorithm('quickshift', kernel_size=1, max_dist=200, ratio=0.2)\n",
    "explanation = explainer.explain_instance(np.array(train[2][0]), \n",
    "                                         getResult, # classification function\n",
    "                                         top_labels=10, \n",
    "                                         hide_color=0, \n",
    "                                         num_samples=100,\n",
    "                                        segmentation_fn=segmenter) # number of images that will be sent to classification function"
   ]
  },
  {
   "cell_type": "code",
   "execution_count": 55,
   "metadata": {},
   "outputs": [],
   "source": [
    "temp, mask = explanation.get_image_and_mask(train[3][1], positive_only=True, num_features=10, hide_rest=False)\n"
   ]
  },
  {
   "cell_type": "code",
   "execution_count": 56,
   "metadata": {},
   "outputs": [
    {
     "data": {
      "text/plain": [
       "Text(0.5,1,'Positive/Negative Regions for 4')"
      ]
     },
     "execution_count": 56,
     "metadata": {},
     "output_type": "execute_result"
    },
    {
     "data": {
      "image/png": "[encoded data removed]",
      "text/plain": [
       "<matplotlib.figure.Figure at 0x1c2f11d0f0>"
      ]
     },
     "metadata": {},
     "output_type": "display_data"
    }
   ],
   "source": [
    "fig, (ax1, ax2) = plt.subplots(1,2, figsize = (8, 4))\n",
    "ax1.imshow(label2rgb(mask,temp, bg_label = 0), interpolation = 'nearest')\n",
    "ax1.set_title('Positive Regions for {}'.format(train[2][1]))\n",
    "temp, mask = explanation.get_image_and_mask(train[2][1], positive_only=False, num_features=10, hide_rest=False)\n",
    "ax2.imshow(label2rgb(3-mask,temp, bg_label = 0), interpolation = 'nearest')\n",
    "ax2.set_title('Positive/Negative Regions for {}'.format(train[2][1]))\n"
   ]
  },
  {
   "cell_type": "code",
   "execution_count": 46,
   "metadata": {},
   "outputs": [
    {
     "name": "stdout",
     "output_type": "stream",
     "text": [
      "{5: [(3, -0.07026896053953913), (4, -0.0629916348569722), (2, -0.033556322772982275), (0, 0.020364392686964643), (5, 0.01447985499251692), (1, 0.007895969413574979)], 1: [(4, -0.16520433804481424), (3, -0.16265269670506877), (0, 0.05123390715916622), (5, 0.03097527139453515), (2, 0.009678548817165995), (1, 0.00551940432736456)], 0: [(3, -0.010336588971687006), (4, -0.009348098379011344), (0, 0.003111929001574834), (2, 0.0023915862422822583), (5, -0.0015064589851854723), (1, 0.00017617063341106778)], 6: [(3, -0.01966134554589156), (2, -0.009351224463648144), (5, 0.006251006861032755), (4, -0.005182560919384014), (0, 0.0026127811140863066), (1, 0.0016568801476049635)], 8: [(3, -0.022153255429917026), (2, 0.004906090174993444), (5, 0.004159735672771083), (1, 0.0014244742314825447), (0, 0.0004924090972276366), (4, 0.00020528462629588115)], 7: [(4, -0.1423356480712968), (5, -0.06402068917217096), (3, 0.03225486148589113), (2, -0.016326306346459245), (0, -0.006891869964815261), (1, -0.004868208398779751)], 2: [(3, -0.016650733974670647), (4, -0.013421704949519074), (5, 0.010225411576736598), (2, -0.008861303360258749), (0, 0.005362859650920844), (1, 0.00041991356059721427)], 3: [(4, -0.20215567058692166), (3, 0.14234901651529952), (0, -0.0597874602604247), (5, 0.05317332254385903), (2, -0.04295464784819306), (1, 0.007878147427793468)], 9: [(3, 0.0776870012308226), (5, -0.048781063045696765), (2, 0.04303860052800961), (4, -0.03617422657016547), (0, -0.008510569357389553), (1, 0.0036195654545444584)], 4: [(4, 0.6366085698166943), (2, 0.051034977041440686), (3, 0.049432722531908994), (1, -0.023722335037480898), (0, -0.007988391395383659), (5, -0.004956378087264211)]}\n"
     ]
    }
   ],
   "source": [
    "print(explanation.local_exp)"
   ]
  },
  {
   "cell_type": "code",
   "execution_count": 47,
   "metadata": {},
   "outputs": [
    {
     "name": "stdout",
     "output_type": "stream",
     "text": [
      "[[1 1 1 1 1 2 2 2 2 2 2 2 2 2 2 2 2 2 2 2 2 2 1 1 1 1 1 1]\n",
      " [1 1 1 1 1 1 2 2 2 2 2 2 2 2 2 2 2 2 2 2 2 2 1 1 1 1 1 1]\n",
      " [1 1 1 1 1 2 2 2 2 2 2 2 2 2 2 2 2 2 2 2 2 2 1 1 1 1 1 1]\n",
      " [1 1 1 1 1 2 2 2 2 2 2 2 2 2 2 2 2 2 2 2 2 2 1 1 1 1 1 1]\n",
      " [1 1 1 1 1 2 2 2 2 2 2 2 2 2 2 2 2 2 2 2 2 2 1 1 1 1 1 1]\n",
      " [1 1 1 1 1 2 2 2 2 2 2 2 2 2 2 2 2 2 2 2 1 2 1 1 1 1 1 1]\n",
      " [1 1 1 1 2 2 2 2 2 2 2 2 2 2 2 2 2 2 2 2 2 2 1 1 1 1 1 1]\n",
      " [1 1 1 1 2 2 2 2 2 2 2 2 2 2 2 2 2 2 2 2 2 2 1 2 2 2 2 1]\n",
      " [1 1 1 1 2 2 2 2 2 2 2 2 2 2 2 2 2 2 2 2 2 2 2 2 2 2 2 2]\n",
      " [1 1 1 1 2 2 2 2 2 2 2 2 2 2 2 2 2 2 2 2 2 2 2 2 2 2 2 2]\n",
      " [1 1 1 1 2 2 2 2 2 2 2 2 2 2 2 2 2 2 2 2 2 2 2 2 2 2 2 2]\n",
      " [1 1 1 2 2 2 2 2 2 2 2 2 2 2 2 2 2 2 2 2 2 2 2 2 2 2 2 2]\n",
      " [1 1 1 2 2 2 2 2 2 2 2 2 2 2 2 2 2 2 2 2 2 2 2 2 2 2 2 2]\n",
      " [1 1 1 2 2 2 2 2 2 2 2 2 2 2 2 2 2 2 2 2 2 2 2 2 2 2 2 2]\n",
      " [2 2 2 2 2 2 2 2 2 2 2 2 2 2 2 2 2 2 2 2 2 2 2 2 2 2 2 2]\n",
      " [2 2 2 2 2 2 2 2 2 2 2 2 2 2 2 2 1 1 2 2 2 2 2 2 2 2 2 2]\n",
      " [2 2 2 2 2 2 2 2 2 2 2 2 1 1 1 1 1 2 2 2 2 2 2 2 2 2 2 2]\n",
      " [2 2 2 2 2 2 2 2 2 2 1 1 1 1 1 1 1 1 2 1 2 2 2 2 2 2 2 2]\n",
      " [2 2 2 2 2 2 2 2 2 1 1 1 1 1 1 1 1 1 2 2 2 2 2 2 2 2 2 2]\n",
      " [2 2 2 2 2 2 2 2 1 1 1 1 1 1 1 1 1 1 2 2 2 2 2 2 2 2 2 2]\n",
      " [2 2 2 2 2 2 2 2 2 1 1 1 1 1 1 1 1 1 2 2 2 2 2 2 2 2 2 2]\n",
      " [2 2 2 2 2 2 2 2 2 1 1 1 1 1 1 1 1 1 2 2 2 2 2 2 2 2 2 2]\n",
      " [2 2 2 2 2 2 2 2 2 2 1 1 1 1 1 1 1 1 2 1 2 2 2 2 2 2 2 2]\n",
      " [2 2 2 2 2 2 2 2 2 2 1 1 1 1 1 1 1 1 2 1 2 2 2 2 2 2 2 2]\n",
      " [2 2 2 2 2 2 2 2 2 2 1 1 1 1 1 1 1 2 2 1 2 2 2 2 2 2 2 2]\n",
      " [2 2 2 2 2 2 2 2 2 2 1 1 1 1 1 1 1 1 1 2 2 2 2 2 2 2 2 2]\n",
      " [2 2 2 2 2 2 2 2 2 2 1 1 1 1 1 1 1 1 1 2 2 2 2 2 2 2 2 2]\n",
      " [2 2 2 2 2 2 2 2 2 2 1 1 1 1 1 1 1 1 1 2 2 2 2 2 2 2 2 2]]\n"
     ]
    }
   ],
   "source": [
    "print(mask)"
   ]
  },
  {
   "cell_type": "code",
   "execution_count": 48,
   "metadata": {},
   "outputs": [
    {
     "name": "stdout",
     "output_type": "stream",
     "text": [
      "[[0 0 0 0 0 2 2 2 2 2 2 2 2 2 2 2 2 2 2 2 2 2 1 1 1 1 1 1]\n",
      " [0 0 0 0 0 0 2 2 2 2 2 2 2 2 2 2 2 2 2 2 2 2 1 1 1 1 1 1]\n",
      " [0 0 0 0 0 2 2 2 2 2 2 2 2 2 2 2 2 2 2 2 2 2 1 1 1 1 1 1]\n",
      " [0 0 0 0 0 2 2 2 2 2 2 2 2 2 2 2 2 2 2 2 2 2 1 1 1 1 1 1]\n",
      " [0 0 0 0 0 2 2 2 2 2 2 2 2 2 2 2 2 2 2 2 2 2 1 1 1 1 1 1]\n",
      " [0 0 0 0 0 2 2 2 2 2 2 2 2 2 2 2 2 2 2 2 1 3 1 1 1 1 1 1]\n",
      " [0 0 0 0 2 2 2 2 2 2 2 2 2 2 2 2 2 2 2 2 3 3 1 1 1 1 1 1]\n",
      " [0 0 0 0 2 2 2 2 2 2 2 2 2 2 2 2 2 2 2 2 3 3 1 3 3 3 3 1]\n",
      " [0 0 0 0 4 2 2 2 2 2 2 2 2 2 2 2 2 2 2 2 3 3 3 3 3 3 3 3]\n",
      " [0 0 0 0 4 2 2 2 2 2 2 2 2 2 2 2 2 2 2 3 3 3 3 3 3 3 3 3]\n",
      " [0 0 0 0 4 2 2 2 2 2 2 2 2 2 2 2 2 2 2 3 3 3 3 3 3 3 3 3]\n",
      " [0 0 0 2 4 2 2 2 2 2 2 2 2 2 2 2 2 2 2 3 3 3 3 3 3 3 3 3]\n",
      " [0 0 0 2 4 2 2 2 2 2 2 2 2 2 2 2 2 2 3 3 3 3 3 3 3 3 3 3]\n",
      " [0 0 0 2 4 2 2 2 2 2 2 2 2 2 2 2 3 3 3 3 3 3 3 3 3 3 3 3]\n",
      " [4 4 4 2 4 2 2 2 2 2 2 3 3 3 3 3 3 3 3 3 3 3 3 3 3 3 3 3]\n",
      " [4 4 4 2 4 4 4 4 4 4 4 4 4 4 3 3 5 5 3 3 3 3 3 3 3 3 3 3]\n",
      " [4 4 4 4 2 4 4 4 4 4 3 2 5 5 5 5 5 3 3 3 3 3 3 3 3 3 3 3]\n",
      " [4 4 4 4 4 4 4 4 4 4 5 5 5 5 5 5 5 5 3 5 3 3 3 3 3 3 3 3]\n",
      " [4 4 4 4 4 4 4 4 4 5 5 5 5 5 5 5 5 5 3 3 3 3 3 3 3 3 3 3]\n",
      " [4 4 4 4 4 4 4 4 5 5 5 5 5 5 5 5 5 5 3 3 3 3 3 3 3 3 3 3]\n",
      " [4 4 4 4 4 4 4 4 4 5 5 5 5 5 5 5 5 5 3 3 3 3 3 3 3 3 3 3]\n",
      " [4 4 4 4 4 4 4 4 4 5 5 5 5 5 5 5 5 5 3 3 3 3 3 3 3 3 3 3]\n",
      " [4 4 4 4 4 4 4 4 4 4 5 5 5 5 5 5 5 5 3 5 3 3 3 3 3 3 3 3]\n",
      " [4 4 4 4 4 4 4 4 4 4 5 5 5 5 5 5 5 5 3 5 3 3 3 3 3 3 3 3]\n",
      " [4 4 4 4 4 4 4 4 4 4 5 5 5 5 5 5 5 3 3 5 3 3 3 3 3 3 3 3]\n",
      " [4 4 4 4 4 4 4 4 4 4 5 5 5 5 5 5 5 5 5 3 3 3 3 3 3 3 3 3]\n",
      " [4 4 4 4 4 4 4 4 4 4 5 5 5 5 5 5 5 5 5 3 3 3 3 3 3 3 3 3]\n",
      " [4 4 4 4 4 4 4 4 4 4 5 5 5 5 5 5 5 5 5 3 3 3 3 3 3 3 3 3]]\n"
     ]
    }
   ],
   "source": [
    "print(explanation.segments)"
   ]
  },
  {
   "cell_type": "code",
   "execution_count": null,
   "metadata": {},
   "outputs": [],
   "source": []
  }
 ],
 "metadata": {
  "kernelspec": {
   "display_name": "Python 3",
   "language": "python",
   "name": "python3"
  },
  "language_info": {
   "codemirror_mode": {
    "name": "ipython",
    "version": 3
   },
   "file_extension": ".py",
   "mimetype": "text/x-python",
   "name": "python",
   "nbconvert_exporter": "python",
   "pygments_lexer": "ipython3",
   "version": "3.6.6"
  }
 },
 "nbformat": 4,
 "nbformat_minor": 2
}
